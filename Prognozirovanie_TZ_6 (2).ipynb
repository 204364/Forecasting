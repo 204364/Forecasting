{
 "cells": [
  {
   "cell_type": "markdown",
   "id": "436fe70f",
   "metadata": {},
   "source": [
    "# Прогнозирование. БИ20-4 Чайковская, Петрова, Мытарева, Крылов, Иванова, Киракосян"
   ]
  },
  {
   "cell_type": "markdown",
   "id": "b6d18c2f",
   "metadata": {},
   "source": [
    "Рассмотрим конкретный кейс из жизни: Алиса собирается поехать в Москву. Для этого ей нужно заранее знать, какая погода будет с 26 по 30 апреля, чтобы решить, какие вещи ей нужно взять с собой в поездку. Имеются данные по средней температуре воздуха в Москве с 26 по 30 апреля с 2012 по 2021. Необходимо построить прогноз температуры на 2022 год.\n",
    "\n",
    "Если предположительная температура воздуха меньше 5 °C, Алисе нужно взять с собой в Москву теплую куртку, шапку, шерстяной свитер, джинсы, шарф и ботинки.\n",
    "Если предположительная температура воздуха в диапазоне [5-12] °C, Алисе нужно взять с собой в Москву пальто, свитшот, тонкий свитер, брюки, кроссовки.\n",
    "Если предположительная температура воздуха больше 12 °С, Алисе нужно взять с собой в Москву тренч, футболку, рубашку, юбку, туфли и кеды."
   ]
  },
  {
   "cell_type": "markdown",
   "id": "b9eaf932",
   "metadata": {},
   "source": [
    "## Задание 1"
   ]
  },
  {
   "cell_type": "markdown",
   "id": "941c4587",
   "metadata": {},
   "source": [
    "## Чтение из csv файла"
   ]
  },
  {
   "cell_type": "code",
   "execution_count": 1,
   "id": "e8b7234b",
   "metadata": {},
   "outputs": [
    {
     "name": "stdout",
     "output_type": "stream",
     "text": [
      "Год, xi =  [2012, 2013, 2014, 2015, 2016, 2017, 2018, 2019, 2020, 2021]\n",
      "Температура, °C, yi =  [3, 3, 6, 8, 11, 8, 9, 11, 10, 12]\n"
     ]
    },
    {
     "data": {
      "image/png": "[encoded data removed]",
      "text/plain": [
       "<Figure size 432x288 with 1 Axes>"
      ]
     },
     "metadata": {
      "needs_background": "light"
     },
     "output_type": "display_data"
    }
   ],
   "source": [
    "#Линейная регрессия\n",
    "\n",
    "#2012 2013 2014 2015 2016 2017 2018 2019 2020 2021 - год, xi\n",
    "#3 3 6 8 11 8 9 11 10 12 - температура, °C, yi\n",
    "\n",
    "import numpy as np\n",
    "import statistics\n",
    "\n",
    "\n",
    "#чтение из csv файла\n",
    "i = 0\n",
    "import csv\n",
    "with open(\"prognoz.csv\", 'r') as file:\n",
    "    reader = csv.reader(file)\n",
    "    for row in reader:\n",
    "        i = i+1\n",
    "        if i ==  1:\n",
    "            year = list(map(int,row[0].split(';')))\n",
    "            print('Год, xi = ', year)\n",
    "        if i == 2:\n",
    "            temperature = list(map(int,row[0].split(';')))\n",
    "            print('Температура, °C, yi = ', temperature)\n",
    "q = np.array(year)\n",
    "qq = np.array(temperature)\n",
    "\n",
    "#Расчёт доверительных интервалов \n",
    "\n",
    "y_1 = list(temperature)\n",
    "for i in range(len(y_1)):\n",
    "    y_1[i]-=(1.5*statistics.stdev(y_1))\n",
    "    \n",
    "y_2 = list(temperature)\n",
    "for i in range(len(y_2)):\n",
    "    y_2[i]+=(1.5*statistics.stdev(y_1))\n",
    "\n",
    "#построение графика\n",
    "\n",
    "z = np.polyfit(q, qq, 1)\n",
    "p = np.poly1d(z)\n",
    "\n",
    "import matplotlib.pyplot as plt\n",
    "xp = np.linspace(2012, 2022, 100)\n",
    "plt.plot(q, qq, '*', xp, p(xp), 'red', [2012, 2022], [y_1[0], y_1[9]], 'k', [2012, 2022], [y_2[0], y_2[9]], 'k')\n",
    "plt.show()"
   ]
  },
  {
   "cell_type": "code",
   "execution_count": 2,
   "id": "5af62db4",
   "metadata": {},
   "outputs": [
    {
     "name": "stdout",
     "output_type": "stream",
     "text": [
      "Год, xi =  [2012, 2013, 2014, 2015, 2016, 2017, 2018, 2019, 2020, 2021]\n",
      "Температура, °C, yi =  [3, 3, 6, 8, 11, 8, 9, 11, 10, 12]\n",
      "coefficient of determination: 0.7836709397527433\n",
      "intercept: -1886.1878787878784\n",
      "slope: [0.93939394]\n",
      "predicted response:\n",
      "[ 3.87272727  4.81212121  5.75151515  6.69090909  7.63030303  8.56969697\n",
      "  9.50909091 10.44848485 11.38787879 12.32727273]\n",
      "[[   0]\n",
      " [   1]\n",
      " [   2]\n",
      " ...\n",
      " [2020]\n",
      " [2021]\n",
      " [2022]]\n",
      "[-1886.18787879 -1885.24848485 -1884.30909091 ...    11.38787879\n",
      "    12.32727273    13.26666667]\n",
      "Предположительная температура воздуха в Москве с 26 по 30 апреля в 2022 году составит:  13.266666666666424\n",
      "Алисе нужно взять с собой в Москву тренч, футболку, рубашку, юбку, туфли и кеды\n"
     ]
    }
   ],
   "source": [
    "import numpy as np\n",
    "from sklearn.linear_model import LinearRegression\n",
    "\n",
    "#чтение из csv файла\n",
    "i = 0\n",
    "import csv\n",
    "with open(\"prognoz.csv\", 'r') as file:\n",
    "    reader = csv.reader(file)\n",
    "    for row in reader:\n",
    "        i = i+1\n",
    "        if i ==  1:\n",
    "            year = list(map(int,row[0].split(';')))\n",
    "            print('Год, xi = ', year)\n",
    "        if i == 2:\n",
    "            temperature = list(map(int,row[0].split(';')))\n",
    "            print('Температура, °C, yi = ', temperature)\n",
    "x = np.array(year).reshape((-1, 1))\n",
    "y = np.array(temperature)\n",
    "\n",
    "model = LinearRegression() \n",
    "#оператор создает переменную модель как экземпляр\n",
    "\n",
    "model.fit(x, y)\n",
    "model = LinearRegression().fit(x, y) \n",
    "\n",
    "#С помощью .fit() вычисляем оптимальные значения весов b_0b и b_1b \n",
    "#Атрибуты модели: .intercept_, который представляет коэффициент, и .coef_, который представляет b_1b \n",
    "r_sq = model.score(x, y)\n",
    "print('coefficient of determination:', r_sq)\n",
    "print('intercept:', model.intercept_)\n",
    "#Значение b_0 = -1886 (приблизительно) показывает, что модель предсказывает реакцию -1886, когда xx равно нулю\n",
    "print('slope:', model.coef_)\n",
    "\n",
    "y_pred = model.predict(x)\n",
    "#Значение b_1 = 0.939 означает, что прогнозируемый ответ увеличивается на 0.939, когда xx увеличивается на единицу\n",
    "\n",
    "#Чтобы получить прогнозируемый ответ, используем .predict():\n",
    "print('predicted response:', y_pred, sep='\\n')\n",
    "\n",
    "x_new = np.arange(2023).reshape((-1, 1))\n",
    "print(x_new)\n",
    "\n",
    "y_new = model.predict(x_new)\n",
    "print(y_new)\n",
    "\n",
    "print('Предположительная температура воздуха в Москве с 26 по 30 апреля в 2022 году составит: ',y_new[2022])\n",
    "\n",
    "if y_new[2022] < 5:\n",
    "    print('Алисе нужно взять с собой в Москву теплую куртку, шапку, шерстяной свитер, джинсы, шарф и ботинки')\n",
    "elif 5 <= y_new[2022] <= 12:\n",
    "    print('Алисе нужно взять с собой в Москву пальто, свитшот, тонкий свитер, брюки, кроссовки')\n",
    "else:\n",
    "    print('Алисе нужно взять с собой в Москву тренч, футболку, рубашку, юбку, туфли и кеды')"
   ]
  },
  {
   "cell_type": "markdown",
   "id": "cc65e8c4",
   "metadata": {},
   "source": [
    "## Ввод значений с клавиатуры"
   ]
  },
  {
   "cell_type": "code",
   "execution_count": 3,
   "id": "4367181d",
   "metadata": {},
   "outputs": [
    {
     "name": "stdout",
     "output_type": "stream",
     "text": [
      "2012 2013 2014 2015 2016 2017 2018 2019 2020 2021\n",
      "3 3 6 8 11 8 9 11 10 12\n"
     ]
    },
    {
     "data": {
      "image/png": "[encoded data removed]",
      "text/plain": [
       "<Figure size 432x288 with 1 Axes>"
      ]
     },
     "metadata": {
      "needs_background": "light"
     },
     "output_type": "display_data"
    }
   ],
   "source": [
    "import numpy as np\n",
    "import statistics\n",
    "\n",
    "year = list(map(int,input().split()))\n",
    "#скопируйте значения ниже\n",
    "#2012 2013 2014 2015 2016 2017 2018 2019 2020 2021\n",
    "temperature = list(map(int,input().split()))\n",
    "#скопируйте значения ниже\n",
    "#3 3 6 8 11 8 9 11 10 12\n",
    "\n",
    "x = np.array(year)\n",
    "y = np.array(temperature)\n",
    "\n",
    "#Расчёт доверительных интервалов \n",
    "\n",
    "y_1 = list(temperature)\n",
    "for i in range(len(y_1)):\n",
    "    y_1[i]-=(1.5*statistics.stdev(y_1))\n",
    "    \n",
    "y_2 = list(temperature)\n",
    "for i in range(len(y_2)):\n",
    "    y_2[i]+=(1.5*statistics.stdev(y_1))\n",
    "#построение графика\n",
    "\n",
    "z = np.polyfit(x, y, 1)\n",
    "p = np.poly1d(z)\n",
    "\n",
    "import matplotlib.pyplot as plt\n",
    "xp = np.linspace(2012, 2022, 100)\n",
    "plt.plot(x, y, '*', xp, p(xp), 'red', [2012, 2022], [y_1[0], y_1[9]], 'k', [2012, 2022], [y_2[0], y_2[9]], 'k')\n",
    "plt.show()"
   ]
  },
  {
   "cell_type": "code",
   "execution_count": 4,
   "id": "683a76a1",
   "metadata": {},
   "outputs": [
    {
     "name": "stdout",
     "output_type": "stream",
     "text": [
      "2012 2013 2014 2015 2016 2017 2018 2019 2020 2021\n",
      "3 3 6 8 11 8 9 11 10 12\n",
      "coefficient of determination: 0.7836709397527433\n",
      "intercept: -1886.1878787878784\n",
      "slope: [0.93939394]\n",
      "predicted response:\n",
      "[ 3.87272727  4.81212121  5.75151515  6.69090909  7.63030303  8.56969697\n",
      "  9.50909091 10.44848485 11.38787879 12.32727273]\n",
      "[[   0]\n",
      " [   1]\n",
      " [   2]\n",
      " ...\n",
      " [2020]\n",
      " [2021]\n",
      " [2022]]\n",
      "[-1886.18787879 -1885.24848485 -1884.30909091 ...    11.38787879\n",
      "    12.32727273    13.26666667]\n",
      "Предположительная температура воздуха в Москве с 26 по 30 апреля в 2022 году составит:  13.266666666666424\n",
      "Алисе нужно взять с собой в Москву тренч, футболку, рубашку, юбку, туфли и кеды\n"
     ]
    }
   ],
   "source": [
    "#Ввод значений с клавиатуры\n",
    "\n",
    "import numpy as np\n",
    "\n",
    "from sklearn.linear_model import LinearRegression\n",
    "\n",
    "year = list(map(int,input().split()))\n",
    "#скопируйте значения ниже\n",
    "#2012 2013 2014 2015 2016 2017 2018 2019 2020 2021\n",
    "temperature = list(map(int,input().split()))\n",
    "#скопируйте значения ниже\n",
    "#3 3 6 8 11 8 9 11 10 12\n",
    "\n",
    "x = np.array(year).reshape((-1, 1))\n",
    "y = np.array(temperature)\n",
    "\n",
    "model = LinearRegression() \n",
    "#оператор создает переменную модель как экземпляр\n",
    "\n",
    "model.fit(x, y)\n",
    "model = LinearRegression().fit(x, y) \n",
    "#С помощью .fit() вычисляем оптимальные значения весов b_0b и b_1b \n",
    "\n",
    "#Атрибуты модели: .intercept_, который представляет коэффициент, и .coef_, который представляет b_1b \n",
    "r_sq = model.score(x, y)\n",
    "print('coefficient of determination:', r_sq)\n",
    "print('intercept:', model.intercept_)\n",
    "#Значение b_0 = -1886 (приблизительно) показывает, что модель предсказывает реакцию -1886, когда xx равно нулю\n",
    "\n",
    "print('slope:', model.coef_)\n",
    "y_pred = model.predict(x)\n",
    "#Значение b_1 = 0.939 означает, что прогнозируемый ответ увеличивается на 0.939, когда xx увеличивается на единицу\n",
    "\n",
    "#Чтобы получить прогнозируемый ответ, используем .predict():\n",
    "print('predicted response:', y_pred, sep='\\n')\n",
    "\n",
    "x_new = np.arange(2023).reshape((-1, 1))\n",
    "print(x_new)\n",
    "\n",
    "y_new = model.predict(x_new)\n",
    "print(y_new)\n",
    "\n",
    "print('Предположительная температура воздуха в Москве с 26 по 30 апреля в 2022 году составит: ',y_new[2022])\n",
    "\n",
    "if y_new[2022] < 5:\n",
    "    print('Алисе нужно взять с собой в Москву теплую куртку, шапку, шерстяной свитер, джинсы, шарф и ботинки')\n",
    "elif 5 <= y_new[2022] <= 12:\n",
    "    print('Алисе нужно взять с собой в Москву пальто, свитшот, тонкий свитер, брюки, кроссовки')\n",
    "else:\n",
    "    print('Алисе нужно взять с собой в Москву тренч, футболку, рубашку, юбку, туфли и кеды')"
   ]
  },
  {
   "cell_type": "markdown",
   "id": "174d38f1",
   "metadata": {},
   "source": [
    "## Задание 2"
   ]
  },
  {
   "cell_type": "code",
   "execution_count": 5,
   "id": "220cd348",
   "metadata": {},
   "outputs": [],
   "source": [
    "def Metod_Gaussa(arr, brr):\n",
    "    for k in range(arr.shape[0] - 1):\n",
    "        #поиск строки с максимальным элементом\n",
    "        max_elem = 0\n",
    "        str = 0\n",
    "        for i in range (k, arr.shape[0]):\n",
    "            if abs(arr[i,k]) > abs(max_elem):\n",
    "                max_elem = arr[i,k]\n",
    "                str = i\n",
    "        #меняем местами строки квадратной матрицы\n",
    "        change = numpy.repeat(arr[k], 1)\n",
    "        arr[k], arr[str] = arr[str], change\n",
    "        #меняем местами элементы вектора-столбца\n",
    "        change = numpy.repeat(brr[k], 1)\n",
    "        brr[k], brr[str] = brr[str], change\n",
    "        #делим полученную строку на max_elem\n",
    "        arr[k] = arr[k] / max_elem\n",
    "        brr[k] = brr[k] / max_elem\n",
    "        #домножаем строку на коэффициенты и вычитаем ее из остальных строк\n",
    "        for i in range (k + 1, arr.shape[0]):\n",
    "            factor = arr[i,k]\n",
    "            arr[i] = arr[i] - arr[k] * factor\n",
    "            brr[i] = brr[i] - brr[k] * factor\n",
    "\n",
    "    #находим неизвестные\n",
    "    arg = [brr[brr.shape[0] - 1] / (arr[arr.shape[0] - 1, arr.shape[0] - 1])]\n",
    "    for i in range(arr.shape[0] - 2, -1, -1):\n",
    "        n = brr[i]\n",
    "        for j in range(len(arg)):\n",
    "            n = n - arg[j] * arr[i, arr.shape[0] - 1 - j]\n",
    "        arg.append(n)\n",
    "\n",
    "    #переворачиваем значения в списке\n",
    "    otv = []\n",
    "    for i in reversed(arg): otv.append(i)\n",
    "    return otv"
   ]
  },
  {
   "cell_type": "code",
   "execution_count": 7,
   "id": "56684cea",
   "metadata": {},
   "outputs": [
    {
     "name": "stdout",
     "output_type": "stream",
     "text": [
      "Задание 2.а\n",
      "Массив точек\n",
      "[2012, 2013, 2014, 2015, 2016, 2017, 2018, 2019, 2020, 2021] [3, 3, 6, 8, 11, 8, 9, 11, 10, 12] [2.60000153031433, 2.77130119962385, 2.94084780325647, 3.10864134121221, 3.27468181337463, 3.43896921986016, 3.60150356066879, 3.76228483574232, 3.92131304513896, 4.07858818885870, 4.23411026690155, 4.38787927903468, 4.53989522566553, 4.69015810650308, 4.83866792172194, 4.98542467120569, 5.13042835501255, 5.27367897302611, 5.41517652542097, 5.55492101202253, 5.69291243300540, 5.82915078831138, 5.96363607788226, 6.09636830177624, 6.22734745981870, 6.35657355224248, 6.48404657904757, 6.60976654011756, 6.73373343545245, 6.85594726505224, 6.97640802897513, 7.09511572722113, 7.21207035979023, 7.32727192662423, 7.44072042778134, 7.55241586314514, 7.66235823283205, 7.77054753690027, 7.87698377523338, 7.98166694788961, 8.08459705486894, 8.18577409605496, 8.28519807150587, 8.38286898133811, 8.47878682543524, 8.57295160385547, 8.66536331654061, 8.75602196360705, 8.84492754493840, 8.93208006041823, 9.01747951033758, 9.10112589452183, 9.18301921302918, 9.26315946580144, 9.34154665283859, 9.41818077425705, 9.49306182994042, 9.56618981994689, 9.63756474421825, 9.70718660281273, 9.77505539561389, 9.84117112279637, 9.90553378424374, 9.96814338007243, 10.0289999101078, 10.0881033744663, 10.1454537732061, 10.2010511060362, 10.2548953733058, 10.3069865748985, 10.3573247107561, 10.4059097809368, 10.4527417853824, 10.4978207240347, 10.5411465970683, 10.5827194044250, 10.6225391461048, 10.6606058220495, 10.6969194323174, 10.7314799767337, 10.7642874555895, 10.7953418687102, 10.8246432161541, 10.8521914978628, 10.8779867138946, 10.9020288641332, 10.9243179487530, 10.9448539676960, 10.9636369209038, 10.9806668084348, 10.9959436302306, 11.0094673862914, 11.0212380766752, 11.0312557013822, 11.0395202604122, 11.0460317537654, 11.0507901813253, 11.0537955432083, 11.0550478392979, 11.0545470698271]\n",
      "[-1.8192323040085965, -3.3827633024593595, -2.040157834341038, -1.1174527221502402, 1.3296518679547749, -1.3178475198499218, -0.4395615657981793, 1.9137965622147917, 2.1157868487201927, 5.466322914480019]\n"
     ]
    },
    {
     "data": {
      "image/png": "[encoded data removed]",
      "text/plain": [
       "<Figure size 432x288 with 1 Axes>"
      ]
     },
     "metadata": {
      "needs_background": "light"
     },
     "output_type": "display_data"
    },
    {
     "name": "stdout",
     "output_type": "stream",
     "text": [
      "Задание 2.б\n",
      "2012.0 2.60000153031433 2012.090909090909 2.77130119962385 2012.1818181818182 2.94084780325647\n"
     ]
    }
   ],
   "source": [
    "#импорт библиотек для работы\n",
    "import numpy as np\n",
    "import matplotlib.pyplot as plt\n",
    "from sympy import *\n",
    "import statistics\n",
    "\n",
    "import numpy\n",
    "\n",
    "x = symbols('x')\n",
    "K = 3 #степень многочлена\n",
    "\n",
    "#опорные точки\n",
    "xi = [2012, 2013, 2014, 2015, 2016, 2017, 2018, 2019, 2020, 2021]\n",
    "yi = [3, 3, 6, 8, 11, 8, 9, 11, 10, 12]\n",
    "\n",
    "def approksim(xi, yi, K):\n",
    "    #поиск констант\n",
    "    A = numpy.zeros([K + 1, K + 1])\n",
    "    for i in range(K + 1):\n",
    "        for j in range(K + 1):\n",
    "            for t in xi: A[i, j] += t ** (2 * K - i - j)\n",
    "    a = numpy.zeros([K + 1])\n",
    "    for i in range(K + 1):\n",
    "        for j in range(len(xi)): a[i] += yi[j] * xi[j] ** (K - i)\n",
    "    const = []\n",
    "    for j in Metod_Gaussa(A, a): const.append(float(j))\n",
    "    #составление уравнения\n",
    "    f = 0\n",
    "    for i in range(len(const)):\n",
    "        f += const[i] * x ** (len(const) - 1 - i)\n",
    "    return f\n",
    "\n",
    "#значения квадратичной функции, полученной МНК, в тех же точках\n",
    "f2 = []\n",
    "for i in xi: f2.append(approksim(xi, yi, 2).evalf(subs={'x': i}))\n",
    "#отклонения (невязки в точках)\n",
    "e2 = []\n",
    "for i in range(len(xi)): e2.append(abs(f2[i] - yi[i]))\n",
    "\n",
    "xfi = numpy.linspace(xi[0], xi[len(xi) - 1], 100)\n",
    "\n",
    "f2i = [approksim(xi, yi, 2).subs(x, a) for a in xfi]\n",
    "#2.a\n",
    "print('Задание 2.а')\n",
    "print('Массив точек')\n",
    "print(xi, yi, f2i)\n",
    "\n",
    "#опорные точки\n",
    "xi = [2012, 2013, 2014, 2015, 2016, 2017, 2018, 2019, 2020, 2021]\n",
    "yi = [3, 3, 6, 8, 11, 8, 9, 11, 10, 12]\n",
    "\n",
    "y_1 = list(yi)\n",
    "for i in range(len(y_1)):\n",
    "    y_1[i]-=(1.5*statistics.stdev(y_1))\n",
    "print(y_1)\n",
    "    \n",
    "y_2 = list(yi)\n",
    "for i in range(len(y_2)):\n",
    "    y_2[i]+=(1.5*statistics.stdev(y_1))\n",
    "\n",
    "plt.plot(xfi, f2i, 'r', [2012, 2022], [y_1[0], y_1[9]], 'k', [2012, 2022], [y_2[0], y_2[9]], 'k')\n",
    "plt.scatter(x=xi, y=yi)\n",
    "\n",
    "plt.grid()\n",
    "plt.show()\n",
    "\n",
    "#2.b\n",
    "\n",
    "print('Задание 2.б')\n",
    "def calc_parabola_vertex(x1, y1, x2, y2, x3, y3):\n",
    "    '''\n",
    "    Adapted and modifed to get the unknowns for defining a parabola:\n",
    "    http://stackoverflow.com/questions/717762/how-to-calculate-the-vertex-of-a-parabola-given-three-points\n",
    "    '''\n",
    "\n",
    "    denom = (x1-x2) * (x1-x3) * (x2-x3);\n",
    "    A     = (x3 * (y2-y1) + x2 * (y1-y3) + x1 * (y3-y2)) / denom;\n",
    "    B     = (x3*x3 * (y1-y2) + x2*x2 * (y3-y1) + x1*x1 * (y2-y3)) / denom;\n",
    "    C     = (x2 * x3 * (x2-x3) * y1+x3 * x1 * (x3-x1) * y2+x1 * x2 * (x1-x2) * y3) / denom;\n",
    "    print(x1, y1, x2, y2, x3, y3)\n",
    "    return A,B,C\n",
    "\n",
    "kfs = calc_parabola_vertex(xfi[0], f2i[0],xfi[1], f2i[1],xfi[2], f2i[2])\n",
    "\n",
    "print(f\"y = {kfs[0]}*x^2 + ({kfs[1]}*x) + ({kfs[2]})\")\n",
    "\n",
    "# 2.б\n",
    "\n",
    "\n",
    "# Делаем единый массив из точек\n",
    "\n",
    "arr = [[x,y] for x,y in zip(xi, yi)]\n",
    "\n",
    "# 2.в\n",
    "print(f\"Дисперсия: {np.asarray(arr).var()}\")"
   ]
  },
  {
   "cell_type": "code",
   "execution_count": null,
   "id": "04c3e945",
   "metadata": {},
   "outputs": [],
   "source": []
  }
 ],
 "metadata": {
  "kernelspec": {
   "display_name": "Python 3",
   "language": "python",
   "name": "python3"
  },
  "language_info": {
   "codemirror_mode": {
    "name": "ipython",
    "version": 3
   },
   "file_extension": ".py",
   "mimetype": "text/x-python",
   "name": "python",
   "nbconvert_exporter": "python",
   "pygments_lexer": "ipython3",
   "version": "3.8.8"
  }
 },
 "nbformat": 4,
 "nbformat_minor": 5
}
